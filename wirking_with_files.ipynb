{
  "nbformat": 4,
  "nbformat_minor": 0,
  "metadata": {
    "colab": {
      "provenance": [],
      "authorship_tag": "ABX9TyO4080yFjDCaPK0SiXu7R8R",
      "include_colab_link": true
    },
    "kernelspec": {
      "name": "python3",
      "display_name": "Python 3"
    },
    "language_info": {
      "name": "python"
    }
  },
  "cells": [
    {
      "cell_type": "markdown",
      "metadata": {
        "id": "view-in-github",
        "colab_type": "text"
      },
      "source": [
        "<a href=\"https://colab.research.google.com/github/PraveenPrabhat125/Python-for-Data-Science/blob/main/wirking_with_files.ipynb\" target=\"_parent\"><img src=\"https://colab.research.google.com/assets/colab-badge.svg\" alt=\"Open In Colab\"/></a>"
      ]
    },
    {
      "cell_type": "markdown",
      "source": [
        "# Working with files"
      ],
      "metadata": {
        "id": "aWEVaUzirE80"
      }
    },
    {
      "cell_type": "code",
      "execution_count": 6,
      "metadata": {
        "id": "f2LDfFl8rBc_"
      },
      "outputs": [],
      "source": [
        "# Write out our mission journal\n",
        "with open('mission_jounal.txt', 'w') as f:\n",
        "    f.write(\"It's my first on the space mission. It is verry nice  It's my first on the space mission. It is verry nice.\")"
      ]
    },
    {
      "cell_type": "code",
      "source": [
        "with open('mission_jounal.txt', 'r') as f:\n",
        "  file = f.read()"
      ],
      "metadata": {
        "id": "o7X_BQrUsQag"
      },
      "execution_count": 8,
      "outputs": []
    },
    {
      "cell_type": "code",
      "source": [
        "print(file)"
      ],
      "metadata": {
        "colab": {
          "base_uri": "https://localhost:8080/"
        },
        "id": "sc_j6Hm_sd5_",
        "outputId": "27e10258-5125-430a-c113-d3de0221a993"
      },
      "execution_count": 9,
      "outputs": [
        {
          "output_type": "stream",
          "name": "stdout",
          "text": [
            "It's my first on the space mission. It is verry nice  It's my first on the space mission. It is verry nice.\n"
          ]
        }
      ]
    },
    {
      "cell_type": "markdown",
      "source": [
        "# Error handeling"
      ],
      "metadata": {
        "id": "DUXUDKsxtdbQ"
      }
    },
    {
      "cell_type": "code",
      "source": [
        "new_set = {1,2,3,4,5}"
      ],
      "metadata": {
        "id": "503H8_Kmtf95"
      },
      "execution_count": 10,
      "outputs": []
    },
    {
      "cell_type": "code",
      "source": [
        "new_set"
      ],
      "metadata": {
        "colab": {
          "base_uri": "https://localhost:8080/"
        },
        "id": "6im85wirtgQy",
        "outputId": "1315195d-06b4-44e7-e66f-0920bf550f56"
      },
      "execution_count": 13,
      "outputs": [
        {
          "output_type": "execute_result",
          "data": {
            "text/plain": [
              "{1, 2, 3, 4, 5}"
            ]
          },
          "metadata": {},
          "execution_count": 13
        }
      ]
    },
    {
      "cell_type": "code",
      "source": [
        "for items in new_set:\n",
        "  print(items)"
      ],
      "metadata": {
        "colab": {
          "base_uri": "https://localhost:8080/"
        },
        "id": "9C2QuRKdtgpj",
        "outputId": "78f00ff1-bdb1-4071-b1df-4592f06021f7"
      },
      "execution_count": 14,
      "outputs": [
        {
          "output_type": "stream",
          "name": "stdout",
          "text": [
            "1\n",
            "2\n",
            "3\n",
            "4\n",
            "5\n"
          ]
        }
      ]
    },
    {
      "cell_type": "code",
      "source": [
        "new_set[0] = 3"
      ],
      "metadata": {
        "colab": {
          "base_uri": "https://localhost:8080/",
          "height": 176
        },
        "id": "PhhNLqtitgyy",
        "outputId": "4e0e9473-f6e9-4f07-f4c4-9ba98cddfc4d"
      },
      "execution_count": 15,
      "outputs": [
        {
          "output_type": "error",
          "ename": "TypeError",
          "evalue": "'set' object does not support item assignment",
          "traceback": [
            "\u001b[0;31m---------------------------------------------------------------------------\u001b[0m",
            "\u001b[0;31mTypeError\u001b[0m                                 Traceback (most recent call last)",
            "\u001b[0;32m<ipython-input-15-9f52c3463b09>\u001b[0m in \u001b[0;36m<cell line: 1>\u001b[0;34m()\u001b[0m\n\u001b[0;32m----> 1\u001b[0;31m \u001b[0mnew_set\u001b[0m\u001b[0;34m[\u001b[0m\u001b[0;36m0\u001b[0m\u001b[0;34m]\u001b[0m \u001b[0;34m=\u001b[0m \u001b[0;36m3\u001b[0m\u001b[0;34m\u001b[0m\u001b[0;34m\u001b[0m\u001b[0m\n\u001b[0m",
            "\u001b[0;31mTypeError\u001b[0m: 'set' object does not support item assignment"
          ]
        }
      ]
    },
    {
      "cell_type": "code",
      "source": [
        "try:\n",
        "  new_set[0] = 1000\n",
        "except Exception as e:\n",
        "  print(e)"
      ],
      "metadata": {
        "colab": {
          "base_uri": "https://localhost:8080/"
        },
        "id": "mLwwChS-t0Fi",
        "outputId": "83d35220-f1b8-4086-d7c6-f53a4f7b11d8"
      },
      "execution_count": 16,
      "outputs": [
        {
          "output_type": "stream",
          "name": "stdout",
          "text": [
            "'set' object does not support item assignment\n"
          ]
        }
      ]
    },
    {
      "cell_type": "code",
      "source": [
        "try:\n",
        "  new_set[0] = 1000\n",
        "except Exception as e:\n",
        "  #print(e)\n",
        "  print('Something went wrong')"
      ],
      "metadata": {
        "colab": {
          "base_uri": "https://localhost:8080/"
        },
        "id": "JSzEjcRdt9Ay",
        "outputId": "ceafb753-164f-4f86-e101-989217886434"
      },
      "execution_count": 17,
      "outputs": [
        {
          "output_type": "stream",
          "name": "stdout",
          "text": [
            "Something went wrong\n"
          ]
        }
      ]
    },
    {
      "cell_type": "code",
      "source": [
        "# Try something using the try keyword\n",
        "try:\n",
        "    # Run a piece of code which may cause an error\n",
        "    new_set[0] = 4\n",
        "\n",
        "# If we have an error, this code below will run\n",
        "except Exception as e:\n",
        "    print(e)\n",
        "    # Print out something that's a little nicer for the user\n",
        "    print('Something went wrong with your request.')"
      ],
      "metadata": {
        "id": "0BvFq85IuN-D"
      },
      "execution_count": null,
      "outputs": []
    }
  ]
}