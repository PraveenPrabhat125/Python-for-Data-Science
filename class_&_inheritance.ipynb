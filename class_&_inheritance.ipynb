{
  "nbformat": 4,
  "nbformat_minor": 0,
  "metadata": {
    "colab": {
      "provenance": [],
      "authorship_tag": "ABX9TyNPf1770jOzh6ZrF0P1xWUt",
      "include_colab_link": true
    },
    "kernelspec": {
      "name": "python3",
      "display_name": "Python 3"
    },
    "language_info": {
      "name": "python"
    }
  },
  "cells": [
    {
      "cell_type": "markdown",
      "metadata": {
        "id": "view-in-github",
        "colab_type": "text"
      },
      "source": [
        "<a href=\"https://colab.research.google.com/github/PraveenPrabhat125/Python-for-Data-Science/blob/main/class_%26_inheritance.ipynb\" target=\"_parent\"><img src=\"https://colab.research.google.com/assets/colab-badge.svg\" alt=\"Open In Colab\"/></a>"
      ]
    },
    {
      "cell_type": "markdown",
      "source": [
        "** Classes **"
      ],
      "metadata": {
        "id": "jtwpddjBIePj"
      }
    },
    {
      "cell_type": "code",
      "execution_count": 6,
      "metadata": {
        "id": "l8qra6GlIaSz"
      },
      "outputs": [],
      "source": [
        "class Person:\n",
        "  # the method that runs as soon as you create a class\n",
        "  def __init__ (self, name, age, color):\n",
        "    self.name = name\n",
        "    self.age = age\n",
        "    self.color = color\n"
      ]
    },
    {
      "cell_type": "code",
      "source": [
        "new_person = Person(\"Elon Musk\", 38, 'blue')\n",
        "new_person.color"
      ],
      "metadata": {
        "colab": {
          "base_uri": "https://localhost:8080/",
          "height": 35
        },
        "id": "4J6-xmbXI5Px",
        "outputId": "5165dc41-c9f1-4d78-f2bb-ed1821631180"
      },
      "execution_count": 8,
      "outputs": [
        {
          "output_type": "execute_result",
          "data": {
            "text/plain": [
              "'blue'"
            ],
            "application/vnd.google.colaboratory.intrinsic+json": {
              "type": "string"
            }
          },
          "metadata": {},
          "execution_count": 8
        }
      ]
    },
    {
      "cell_type": "markdown",
      "source": [],
      "metadata": {
        "id": "C3Rd68jJLB43"
      }
    },
    {
      "cell_type": "code",
      "source": [
        "from re import S\n",
        "# Stundet class\n",
        "class Student:\n",
        "  def __init__(self, name, roll, grade, section):\n",
        "    self.name = name\n",
        "    self.roll = roll\n",
        "    self.grade = grade\n",
        "    self.section = section\n",
        "\n",
        "  def print_fun(self):\n",
        "    print(\"Name\", {self.name})\n",
        "    print(\"roll\", {self.roll})\n",
        "    print(\"grade\", {self.grade})\n",
        "    print(\"section\", {self.section})\n",
        "\n",
        "\n",
        "  def print_fun_info(self):\n",
        "    print(\"Name\", self.name, \"\\n Roll: \", self.roll, \"\\n grade: \", self.grade)\n",
        "\n",
        "\n",
        ""
      ],
      "metadata": {
        "id": "8fNeEIaOI5mW"
      },
      "execution_count": 21,
      "outputs": []
    },
    {
      "cell_type": "code",
      "source": [
        "# create object like s1\n",
        "s1 = Student(\"Praveen\", 18, \"A\", \"B\")\n",
        "s2 = Student(\"Alice\", 19, \"B\", \"A\")\n",
        "s3 = Student(\"Bob\", 20, \"C\", \"A\")\n",
        "s4 = Student(\"Eva\", 18, \"A\", \"A\")\n",
        "s5 = Student(\"Mike\", 19, \"B\", \"B\")\n"
      ],
      "metadata": {
        "id": "TWKiZSo9Jr7e"
      },
      "execution_count": 22,
      "outputs": []
    },
    {
      "cell_type": "code",
      "source": [
        "s1.print_fun_info()\n",
        "s2.print_fun_info()\n",
        "s3.print_fun_info()\n",
        "s4.print_fun_info()\n",
        "s5.print_fun_info()"
      ],
      "metadata": {
        "colab": {
          "base_uri": "https://localhost:8080/"
        },
        "id": "0dSYDfyHOI6N",
        "outputId": "285f912a-9062-4ca8-a22f-d112f95f6efc"
      },
      "execution_count": 23,
      "outputs": [
        {
          "output_type": "stream",
          "name": "stdout",
          "text": [
            "Name Praveen \n",
            " Roll:  18 \n",
            " grade:  A\n",
            "Name Alice \n",
            " Roll:  19 \n",
            " grade:  B\n",
            "Name Bob \n",
            " Roll:  20 \n",
            " grade:  C\n",
            "Name Eva \n",
            " Roll:  18 \n",
            " grade:  A\n",
            "Name Mike \n",
            " Roll:  19 \n",
            " grade:  B\n"
          ]
        }
      ]
    },
    {
      "cell_type": "code",
      "source": [
        "# how to count the number of students\n",
        "# 1. create a count to class\n",
        "\n",
        "# create the list and then count the list of student\n"
      ],
      "metadata": {
        "id": "-_YJfwy6OJp4"
      },
      "execution_count": null,
      "outputs": []
    },
    {
      "cell_type": "markdown",
      "source": [
        "# how to count the number of students\n",
        "### 1. create a count to class\n"
      ],
      "metadata": {
        "id": "KiEbnctkOfCk"
      }
    },
    {
      "cell_type": "code",
      "source": [
        "\n",
        "# Stundet class\n",
        "class Student:\n",
        "  num_students = 0\n",
        "\n",
        "  def __init__(self, name, roll, grade, section):\n",
        "    self.name = name\n",
        "    self.roll = roll\n",
        "    self.grade = grade\n",
        "    self.section = section\n",
        "\n",
        "\n",
        "    Student.num_students += 1\n",
        "\n",
        "  def print_fun(self):\n",
        "    print(\"Name\", {self.name})\n",
        "    print(\"roll\", {self.roll})\n",
        "    print(\"grade\", {self.grade})\n",
        "    print(\"section\", {self.section})\n",
        "\n",
        "\n",
        "  def print_fun_info(self):\n",
        "    print(\"Name\", self.name, \"\\n Roll: \", self.roll, \"\\n grade: \", self.grade)\n",
        "\n",
        "\n",
        ""
      ],
      "metadata": {
        "id": "Iv9BMkoFOKDk"
      },
      "execution_count": 34,
      "outputs": []
    },
    {
      "cell_type": "code",
      "source": [
        "s1 = Student(\"Praveen\", 18, \"A\", \"B\")\n",
        "s2 = Student(\"Alice\", 19, \"B\", \"A\")\n",
        "print(Student.num_students)\n"
      ],
      "metadata": {
        "colab": {
          "base_uri": "https://localhost:8080/"
        },
        "id": "E0-BX26TOKQa",
        "outputId": "de749444-ce22-436f-dd54-dc580f0e377c"
      },
      "execution_count": 35,
      "outputs": [
        {
          "output_type": "stream",
          "name": "stdout",
          "text": [
            "2\n"
          ]
        }
      ]
    },
    {
      "cell_type": "markdown",
      "source": [
        "\n",
        "## create the list and then count the list of student"
      ],
      "metadata": {
        "id": "fq9Sli-QPTGH"
      }
    },
    {
      "cell_type": "code",
      "source": [
        "# creating the list of object\n",
        "# Stundet class\n",
        "class Student:\n",
        "  student_register =  []\n",
        "\n",
        "  def __init__(self, name, roll, grade, section):\n",
        "    self.name = name\n",
        "    self.roll = roll\n",
        "    self.grade = grade\n",
        "    self.section = section\n",
        "\n",
        "    # add this object to the list\n",
        "    Student.student_register.append(self)\n",
        "\n",
        "\n",
        "  def print_fun(self):\n",
        "    print(\"Name\", {self.name})\n",
        "    print(\"roll\", {self.roll})\n",
        "    print(\"grade\", {self.grade})\n",
        "    print(\"section\", {self.section})\n",
        "\n",
        "\n",
        "  def print_fun_info(self):\n",
        "    print(\"Name\", self.name, \"\\n Roll: \", self.roll, \"\\n grade: \", self.grade)\n",
        "\n",
        "  # self is instance of cussrent class\n",
        "  def dob(self):\n",
        "    return self.roll\n",
        "\n",
        "  def age(self, year = 10):\n",
        "    return  self.roll + year\n",
        ""
      ],
      "metadata": {
        "id": "vLRii1sHOKdZ"
      },
      "execution_count": 62,
      "outputs": []
    },
    {
      "cell_type": "code",
      "source": [
        "# create object like s1\n",
        "s1 = Student(\"Praveen\", 18, \"A\", \"B\")\n",
        "s2 = Student(\"Alice\", 19, \"B\", \"A\")\n",
        "s3 = Student(\"Bob\", 20, \"C\", \"A\")\n",
        "s4 = Student(\"Eva\", 18, \"A\", \"A\")\n",
        "s5 = Student(\"Mike\", 19, \"B\", \"B\")\n",
        "\n",
        "\n",
        "# no of students\n",
        "print(\"number of stundet:- \", len(Student.student_register))\n",
        "\n",
        "\n",
        "s1.print_fun_info()\n",
        "s2.print_fun_info()\n",
        "s3.print_fun_info()\n",
        "s4.print_fun_info()\n",
        "s5.print_fun_info()\n",
        "\n",
        "# s5.dob(\"age of\", s5.print_fun_info, \"age: \", s5.dob(s5))"
      ],
      "metadata": {
        "colab": {
          "base_uri": "https://localhost:8080/"
        },
        "id": "6jTLEohNOKoC",
        "outputId": "1d1b0184-5774-46ab-c9f0-7dc0c5123d62"
      },
      "execution_count": 63,
      "outputs": [
        {
          "output_type": "stream",
          "name": "stdout",
          "text": [
            "number of stundet:-  5\n",
            "Name Praveen \n",
            " Roll:  18 \n",
            " grade:  A\n",
            "Name Alice \n",
            " Roll:  19 \n",
            " grade:  B\n",
            "Name Bob \n",
            " Roll:  20 \n",
            " grade:  C\n",
            "Name Eva \n",
            " Roll:  18 \n",
            " grade:  A\n",
            "Name Mike \n",
            " Roll:  19 \n",
            " grade:  B\n"
          ]
        }
      ]
    },
    {
      "cell_type": "code",
      "source": [
        "\n",
        "print(Student.student_register[0].name)\n",
        "\n",
        "# Student.student_register[0].print_fun()\n",
        "\n",
        "Student.student_register[0].print_fun_info()\n",
        "\n",
        "Student.student_register[0].dob()\n",
        "\n",
        "Student.student_register[4].age()"
      ],
      "metadata": {
        "colab": {
          "base_uri": "https://localhost:8080/"
        },
        "id": "cUK-Ea26OKz8",
        "outputId": "3836b538-c5e5-425a-fe7f-19005cb04630"
      },
      "execution_count": 65,
      "outputs": [
        {
          "output_type": "stream",
          "name": "stdout",
          "text": [
            "Praveen\n",
            "Name Praveen \n",
            " Roll:  18 \n",
            " grade:  A\n"
          ]
        },
        {
          "output_type": "execute_result",
          "data": {
            "text/plain": [
              "29"
            ]
          },
          "metadata": {},
          "execution_count": 65
        }
      ]
    },
    {
      "cell_type": "markdown",
      "source": [
        "# Inheritance"
      ],
      "metadata": {
        "id": "fwVOW4fSZX94"
      }
    },
    {
      "cell_type": "markdown",
      "source": [
        "## Parent class [ base class]"
      ],
      "metadata": {
        "id": "2KFNNaAYaHkk"
      }
    },
    {
      "cell_type": "code",
      "source": [
        "class Person:\n",
        "  # initilization function\n",
        "  def __init__(self, name, age, color):\n",
        "    self.name = name\n",
        "    self.age = age\n",
        "    self.color = color\n",
        "\n",
        "  def print_person_info(self):\n",
        "    print(\"Name: \", self.name, \"Age: \", self.age, \"Color: \", self.color)\n",
        "\n",
        ""
      ],
      "metadata": {
        "id": "co3ujUQhOK-j"
      },
      "execution_count": 67,
      "outputs": []
    },
    {
      "cell_type": "markdown",
      "source": [
        "## child class [inherited class]\n",
        "\n",
        "- using super method"
      ],
      "metadata": {
        "id": "lLBa76bgaKs4"
      }
    },
    {
      "cell_type": "code",
      "source": [
        "class Astronut(Person):\n",
        "\n",
        "  #initilization\n",
        "  def __init__(self,  name, age, color, total_trip_duration, place):\n",
        "\n",
        "    # supper method for inheritance\n",
        "    super().__init__(name, age, color)\n",
        "    self.total_trip_duration = total_trip_duration\n",
        "    self.place = place\n"
      ],
      "metadata": {
        "id": "T4xfnYCHOLIG"
      },
      "execution_count": 75,
      "outputs": []
    },
    {
      "cell_type": "code",
      "source": [
        "new_astronut = Astronut('Praveen ', 21, 'Grey', 23, 'Moon')\n",
        "\n",
        "print( new_astronut.name)\n",
        "\n",
        "print( new_astronut.print_person_info())\n"
      ],
      "metadata": {
        "colab": {
          "base_uri": "https://localhost:8080/"
        },
        "id": "po0LQZFBatMW",
        "outputId": "07c8afbf-ff24-4ab4-8fe6-74a44d9d8a55"
      },
      "execution_count": 78,
      "outputs": [
        {
          "output_type": "stream",
          "name": "stdout",
          "text": [
            "Praveen \n",
            "Name:  Praveen  Age:  21 Color:  Grey\n",
            "None\n"
          ]
        }
      ]
    }
  ]
}