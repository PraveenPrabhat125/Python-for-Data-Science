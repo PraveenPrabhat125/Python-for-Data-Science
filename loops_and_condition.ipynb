{
  "nbformat": 4,
  "nbformat_minor": 0,
  "metadata": {
    "colab": {
      "provenance": [],
      "authorship_tag": "ABX9TyO2H4jQAk2TxCr/00GTwqXP",
      "include_colab_link": true
    },
    "kernelspec": {
      "name": "python3",
      "display_name": "Python 3"
    },
    "language_info": {
      "name": "python"
    }
  },
  "cells": [
    {
      "cell_type": "markdown",
      "metadata": {
        "id": "view-in-github",
        "colab_type": "text"
      },
      "source": [
        "<a href=\"https://colab.research.google.com/github/PraveenPrabhat125/Python-for-Data-Science/blob/main/loops_and_condition.ipynb\" target=\"_parent\"><img src=\"https://colab.research.google.com/assets/colab-badge.svg\" alt=\"Open In Colab\"/></a>"
      ]
    },
    {
      "cell_type": "markdown",
      "source": [
        "# Loops & Condition"
      ],
      "metadata": {
        "id": "jF-Y1fT9WplR"
      }
    },
    {
      "cell_type": "code",
      "execution_count": null,
      "metadata": {
        "colab": {
          "base_uri": "https://localhost:8080/"
        },
        "id": "joqW8VNJWgWZ",
        "outputId": "21f067a1-6ff5-4d78-c8c3-514a51b80d78"
      },
      "outputs": [
        {
          "output_type": "stream",
          "name": "stdout",
          "text": [
            "negative number\n"
          ]
        }
      ],
      "source": [
        "num = -22\n",
        "if num > 0.5:\n",
        "  print('Greater then 0.5')\n",
        "elif num < 0:\n",
        "  print('negative number')\n",
        "else:\n",
        "  print('Smaller then 0.5')"
      ]
    },
    {
      "cell_type": "code",
      "source": [
        "name = ['Sachin', 'Rahul', 'sami', 'Dhoni', 'Rohit']\n",
        "print(name)\n",
        "name.append('Praveen')\n",
        "print(name)\n",
        "name.pop()\n",
        "name\n",
        "\n",
        "\n",
        "# cond\n",
        "if 'Praveen' in name:\n",
        "  print('Praveen is prasent')\n",
        "else:\n",
        "  # if using 'then \\ for escaping the result\n",
        "  print('not\\' present')"
      ],
      "metadata": {
        "colab": {
          "base_uri": "https://localhost:8080/"
        },
        "id": "SI6WXL_daavH",
        "outputId": "f5bf8de2-998c-4de3-d093-fd3638a180ba"
      },
      "execution_count": null,
      "outputs": [
        {
          "output_type": "stream",
          "name": "stdout",
          "text": [
            "['Sachin', 'Rahul', 'sami', 'Dhoni', 'Rohit']\n",
            "['Sachin', 'Rahul', 'sami', 'Dhoni', 'Rohit', 'Praveen']\n",
            "not' present\n"
          ]
        }
      ]
    },
    {
      "cell_type": "markdown",
      "source": [
        "# Loops"
      ],
      "metadata": {
        "id": "zDdKBzClb8Hy"
      }
    },
    {
      "cell_type": "code",
      "source": [
        "# creating list\n",
        "names= ['Sachin', 'Rahul', 'Rohit' 'sami', 'Dhoni']\n",
        "for name in names:\n",
        "  print(name)\n",
        "  if name == 'Rohit':\n",
        "    print('Rohit is presnt')\n",
        "  elif name == 'sami':\n",
        "    print('sami paajii')\n",
        "    break\n",
        "\n"
      ],
      "metadata": {
        "colab": {
          "base_uri": "https://localhost:8080/"
        },
        "id": "5jrAF2L8b7A1",
        "outputId": "771b645c-ebae-4dff-dd86-0a2998c79aae"
      },
      "execution_count": null,
      "outputs": [
        {
          "output_type": "stream",
          "name": "stdout",
          "text": [
            "Sachin\n",
            "Rahul\n",
            "Rohitsami\n",
            "Dhoni\n"
          ]
        }
      ]
    },
    {
      "cell_type": "code",
      "source": [
        "for indx in range(1,11): print(indx)"
      ],
      "metadata": {
        "colab": {
          "base_uri": "https://localhost:8080/"
        },
        "id": "daMgHHsEetim",
        "outputId": "a01291ea-29ed-4f12-c934-49c02b3c02b5"
      },
      "execution_count": null,
      "outputs": [
        {
          "output_type": "stream",
          "name": "stdout",
          "text": [
            "1\n",
            "2\n",
            "3\n",
            "4\n",
            "5\n",
            "6\n",
            "7\n",
            "8\n",
            "9\n",
            "10\n"
          ]
        }
      ]
    },
    {
      "cell_type": "markdown",
      "source": [
        "# Function"
      ],
      "metadata": {
        "id": "L0Rq8J9JRJSR"
      }
    },
    {
      "cell_type": "code",
      "source": [
        "# defination of function\n",
        "def launchpad():\n",
        "  print('name')\n",
        "  print(123)"
      ],
      "metadata": {
        "id": "1qavX8bSRFgK"
      },
      "execution_count": 1,
      "outputs": []
    },
    {
      "cell_type": "code",
      "source": [
        "# calling function\n",
        "launchpad()"
      ],
      "metadata": {
        "colab": {
          "base_uri": "https://localhost:8080/"
        },
        "id": "IiPTilynRYjL",
        "outputId": "533040b4-4d2a-4f34-fd01-3d2f884a35ef"
      },
      "execution_count": 2,
      "outputs": [
        {
          "output_type": "stream",
          "name": "stdout",
          "text": [
            "name\n",
            "123\n"
          ]
        }
      ]
    },
    {
      "cell_type": "code",
      "source": [
        "def animal_Greeting(name_list):\n",
        "  for name in name_list:\n",
        "    print('Welecome', name)"
      ],
      "metadata": {
        "id": "ohJ4_Q4JRspd"
      },
      "execution_count": 5,
      "outputs": []
    },
    {
      "cell_type": "code",
      "source": [
        "# paaing some value to function\n",
        "name = ['Tiger', 'Dog', 'Cat', 'Lion']\n",
        "name[3]\n",
        "\n",
        "# pass this list to a function\n",
        "animal_Greeting(name)"
      ],
      "metadata": {
        "colab": {
          "base_uri": "https://localhost:8080/"
        },
        "id": "WFRH_acqRcS5",
        "outputId": "5042bfe5-e482-46cb-ba25-0b9f91313d65"
      },
      "execution_count": 11,
      "outputs": [
        {
          "output_type": "stream",
          "name": "stdout",
          "text": [
            "Welecome Tiger\n",
            "Welecome Dog\n",
            "Welecome Cat\n",
            "Welecome Lion\n"
          ]
        }
      ]
    },
    {
      "cell_type": "code",
      "source": [
        "# this can also be done using for loop also then why function\n",
        "for var in name:\n",
        "  print('Welecome', var)\n",
        "  print('Welcome {}'.format(var))"
      ],
      "metadata": {
        "colab": {
          "base_uri": "https://localhost:8080/"
        },
        "id": "fVngEXgqR-hB",
        "outputId": "0e9eb419-2679-4b83-e491-07cbae9d829c"
      },
      "execution_count": 12,
      "outputs": [
        {
          "output_type": "stream",
          "name": "stdout",
          "text": [
            "Welecome Tiger\n",
            "Welcome Tiger\n",
            "Welecome Dog\n",
            "Welcome Dog\n",
            "Welecome Cat\n",
            "Welcome Cat\n",
            "Welecome Lion\n",
            "Welcome Lion\n"
          ]
        }
      ]
    },
    {
      "cell_type": "code",
      "source": [
        "# String formating\n",
        "print('Welcome {}'.format('Praveen'))\n",
        "\n",
        "# second argument\n",
        "\n",
        "print('Welcome {} {}'.format('Praveen', 'Welcome to internbix'))"
      ],
      "metadata": {
        "colab": {
          "base_uri": "https://localhost:8080/"
        },
        "id": "woGCHpArSdQ9",
        "outputId": "635a7236-89d9-40e7-e592-9a003218c31c"
      },
      "execution_count": 13,
      "outputs": [
        {
          "output_type": "stream",
          "name": "stdout",
          "text": [
            "Welcome Praveen\n",
            "Welcome Praveen Welcome to internbix\n"
          ]
        }
      ]
    },
    {
      "cell_type": "code",
      "source": [
        "names = ['Sion', 'Lower Parel', 'ÇSMT', 'Dadar']\n",
        "# enumurate\n",
        "for idx, name in enumerate(names):\n",
        "  print(idx, name)"
      ],
      "metadata": {
        "colab": {
          "base_uri": "https://localhost:8080/"
        },
        "id": "TqET2erIVLdn",
        "outputId": "7d44a8d6-1783-4962-865c-242683d1ac25"
      },
      "execution_count": 15,
      "outputs": [
        {
          "output_type": "stream",
          "name": "stdout",
          "text": [
            "0 Sion\n",
            "1 Lower Parel\n",
            "2 ÇSMT\n",
            "3 Dadar\n"
          ]
        }
      ]
    },
    {
      "cell_type": "markdown",
      "source": [
        "#imp"
      ],
      "metadata": {
        "id": "Wi_Rc-L8V13K"
      }
    },
    {
      "cell_type": "code",
      "source": [
        "station_name = ['Sion', 'Lower Parel', 'ÇSMT', 'Dadar']\n",
        "famous_for = ['Stay', 'Office', 'Market', 'population']"
      ],
      "metadata": {
        "id": "NgXApR2GV1WP"
      },
      "execution_count": 16,
      "outputs": []
    },
    {
      "cell_type": "code",
      "source": [
        "# function defination\n",
        "def mumbai_function(station_name, famous_for):\n",
        "  print(\"Welcome to {} famous for {}\".format(station_name, famous_for))\n"
      ],
      "metadata": {
        "id": "cVlnijEjWH7U"
      },
      "execution_count": 18,
      "outputs": []
    },
    {
      "cell_type": "code",
      "source": [
        "# calling function\n",
        "for idx, name in enumerate(station_name):\n",
        "  famous = famous_for[idx] # aad the temp values\n",
        "\n",
        "  # call the function\n",
        "  mumbai_function(name, famous)"
      ],
      "metadata": {
        "colab": {
          "base_uri": "https://localhost:8080/"
        },
        "id": "Q6FvhXcrWduG",
        "outputId": "0dc2cbb4-c6d5-4cfd-cac6-e80faba4f126"
      },
      "execution_count": 19,
      "outputs": [
        {
          "output_type": "stream",
          "name": "stdout",
          "text": [
            "Welcome to Sion famous for Stay\n",
            "Welcome to Lower Parel famous for Office\n",
            "Welcome to ÇSMT famous for Market\n",
            "Welcome to Dadar famous for population\n"
          ]
        }
      ]
    },
    {
      "cell_type": "markdown",
      "source": [
        "## Alternate way to do it : write loop inside function"
      ],
      "metadata": {
        "id": "dvRqAz4jXD7I"
      }
    },
    {
      "cell_type": "code",
      "source": [
        "# function defination\n",
        "def mumbai_function(station_name, famous_for):\n",
        "  for idx, name in enumerate(station_name):\n",
        "    temp_famous = famous_for[idx]\n",
        "    print(\"Welcome to {} famous for {}\".format(name, temp_famous))\n"
      ],
      "metadata": {
        "id": "HxsrBIshXJlu"
      },
      "execution_count": 22,
      "outputs": []
    },
    {
      "cell_type": "code",
      "source": [
        "mumbai_function(station_name, famous_for)"
      ],
      "metadata": {
        "colab": {
          "base_uri": "https://localhost:8080/"
        },
        "id": "Bs1zjr-YXlYS",
        "outputId": "a7da57a8-7dba-4a88-da12-d3fd3950808b"
      },
      "execution_count": 23,
      "outputs": [
        {
          "output_type": "stream",
          "name": "stdout",
          "text": [
            "Welcome to Sion famous for Stay\n",
            "Welcome to Lower Parel famous for Office\n",
            "Welcome to ÇSMT famous for Market\n",
            "Welcome to Dadar famous for population\n"
          ]
        }
      ]
    },
    {
      "cell_type": "markdown",
      "source": [
        "# Lambda function\n",
        "In Python, a lambda function is a small, anonymous function defined using the lambda keyword. Lambda functions are often used for short-lived operations where a full function definition is not necessary. The general syntax of a lambda function is"
      ],
      "metadata": {
        "id": "yobKjD9tbYGZ"
      }
    },
    {
      "cell_type": "code",
      "source": [
        "pie = lambda x : x*3.14"
      ],
      "metadata": {
        "id": "mAhvdfqhbbAm"
      },
      "execution_count": 27,
      "outputs": []
    },
    {
      "cell_type": "code",
      "source": [
        "pie(2)"
      ],
      "metadata": {
        "colab": {
          "base_uri": "https://localhost:8080/"
        },
        "id": "OnalhENgbh5q",
        "outputId": "161e1083-6d6a-45b9-91f7-3fbde9836c4e"
      },
      "execution_count": 28,
      "outputs": [
        {
          "output_type": "execute_result",
          "data": {
            "text/plain": [
              "6.28"
            ]
          },
          "metadata": {},
          "execution_count": 28
        }
      ]
    },
    {
      "cell_type": "code",
      "source": [
        "# Normal function\n",
        "def add_fun(x,y):\n",
        "  return x + y\n",
        "\n",
        "# lambda fucntion\n",
        "add_lambda_fun = lambda x, y : x + y\n",
        "\n",
        "\n",
        "# nomal function call\n",
        "print(add_fun(3, 5))\n",
        "\n",
        "# lambda fun call\n",
        "print(add_lambda_fun(3,8))\n"
      ],
      "metadata": {
        "colab": {
          "base_uri": "https://localhost:8080/"
        },
        "id": "Rz47oUmSb9Qp",
        "outputId": "f80ead40-8665-420f-f655-c3c9fb6c1b50"
      },
      "execution_count": 31,
      "outputs": [
        {
          "output_type": "stream",
          "name": "stdout",
          "text": [
            "8\n",
            "11\n"
          ]
        }
      ]
    }
  ]
}