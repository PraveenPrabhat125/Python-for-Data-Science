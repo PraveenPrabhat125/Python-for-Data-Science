{
  "nbformat": 4,
  "nbformat_minor": 0,
  "metadata": {
    "colab": {
      "provenance": [],
      "authorship_tag": "ABX9TyNyMTHVbrPLwQD/nOw7haWB",
      "include_colab_link": true
    },
    "kernelspec": {
      "name": "python3",
      "display_name": "Python 3"
    },
    "language_info": {
      "name": "python"
    }
  },
  "cells": [
    {
      "cell_type": "markdown",
      "metadata": {
        "id": "view-in-github",
        "colab_type": "text"
      },
      "source": [
        "<a href=\"https://colab.research.google.com/github/PraveenPrabhat125/Python-for-Data-Science/blob/main/Basic%20Python.ipynb\" target=\"_parent\"><img src=\"https://colab.research.google.com/assets/colab-badge.svg\" alt=\"Open In Colab\"/></a>"
      ]
    },
    {
      "cell_type": "markdown",
      "source": [
        "# Variables"
      ],
      "metadata": {
        "id": "3ukYnxwBHPkp"
      }
    },
    {
      "cell_type": "code",
      "source": [
        "var = 123\n",
        "print(var)\n",
        "type(var)"
      ],
      "metadata": {
        "colab": {
          "base_uri": "https://localhost:8080/"
        },
        "id": "yA58OhMUqQvQ",
        "outputId": "2f4983e4-f115-4835-89bd-86f48211ddf9"
      },
      "execution_count": 10,
      "outputs": [
        {
          "output_type": "stream",
          "name": "stdout",
          "text": [
            "123\n"
          ]
        },
        {
          "output_type": "execute_result",
          "data": {
            "text/plain": [
              "int"
            ]
          },
          "metadata": {},
          "execution_count": 10
        }
      ]
    },
    {
      "cell_type": "markdown",
      "source": [
        "# Data Type\n",
        "1. Int\n",
        "2. Float\n",
        "3. String\n",
        "4. Boolean\n",
        "\n",
        "# Important\n",
        "1. List\n",
        "2. Tuples\n",
        "3. Dicitionary\n"
      ],
      "metadata": {
        "id": "IfZTGWb4Hlop"
      }
    },
    {
      "cell_type": "code",
      "source": [
        "#Int\n",
        "int_var = 12\n",
        "print(int_var)\n",
        "type(int_var)"
      ],
      "metadata": {
        "colab": {
          "base_uri": "https://localhost:8080/"
        },
        "id": "Dh64wKvmqSJ4",
        "outputId": "496c183f-5471-42bf-92a4-26600ddf7177"
      },
      "execution_count": 11,
      "outputs": [
        {
          "output_type": "stream",
          "name": "stdout",
          "text": [
            "12\n"
          ]
        },
        {
          "output_type": "execute_result",
          "data": {
            "text/plain": [
              "int"
            ]
          },
          "metadata": {},
          "execution_count": 11
        }
      ]
    },
    {
      "cell_type": "code",
      "source": [
        "# flaot\n",
        "float_var = 12.0001212\n",
        "print(float_var)\n",
        "type(float_var)"
      ],
      "metadata": {
        "colab": {
          "base_uri": "https://localhost:8080/"
        },
        "id": "RMdOLFDzqStL",
        "outputId": "a372925b-2fa0-4e83-b870-383215f1f08f"
      },
      "execution_count": 13,
      "outputs": [
        {
          "output_type": "stream",
          "name": "stdout",
          "text": [
            "12.0001212\n"
          ]
        },
        {
          "output_type": "execute_result",
          "data": {
            "text/plain": [
              "float"
            ]
          },
          "metadata": {},
          "execution_count": 13
        }
      ]
    },
    {
      "cell_type": "code",
      "source": [
        "# String\n",
        "str_var = \"Data_Scientist\"\n",
        "print(str_var)\n",
        "type(str_var)"
      ],
      "metadata": {
        "colab": {
          "base_uri": "https://localhost:8080/"
        },
        "id": "EsxFd5QtqS6f",
        "outputId": "7a47b3b3-b9e8-41cb-ce2a-94f3fe6083de"
      },
      "execution_count": 14,
      "outputs": [
        {
          "output_type": "stream",
          "name": "stdout",
          "text": [
            "Data_Scientist\n"
          ]
        },
        {
          "output_type": "execute_result",
          "data": {
            "text/plain": [
              "str"
            ]
          },
          "metadata": {},
          "execution_count": 14
        }
      ]
    },
    {
      "cell_type": "code",
      "source": [
        "# Boolean\n",
        "bool_var = False\n",
        "print(bool_var)\n",
        "type(bool_var)"
      ],
      "metadata": {
        "colab": {
          "base_uri": "https://localhost:8080/"
        },
        "id": "0NmoKjyoIqNr",
        "outputId": "5b611462-efeb-45a7-b1c0-250c3adfc833"
      },
      "execution_count": 15,
      "outputs": [
        {
          "output_type": "stream",
          "name": "stdout",
          "text": [
            "False\n"
          ]
        },
        {
          "output_type": "execute_result",
          "data": {
            "text/plain": [
              "bool"
            ]
          },
          "metadata": {},
          "execution_count": 15
        }
      ]
    },
    {
      "cell_type": "markdown",
      "source": [
        "# List"
      ],
      "metadata": {
        "id": "wbvKve4tJxlJ"
      }
    },
    {
      "cell_type": "code",
      "source": [
        "# CRUD\n",
        "\n",
        "# 1. Creat\n",
        "fruits = ['apple', 'banana', 'orange']\n",
        "print(fruits)\n",
        "type(fruits)"
      ],
      "metadata": {
        "colab": {
          "base_uri": "https://localhost:8080/"
        },
        "id": "O4Ln0uckMS-L",
        "outputId": "78b394dc-b5b5-4dce-af68-6efb83f713e7"
      },
      "execution_count": 17,
      "outputs": [
        {
          "output_type": "stream",
          "name": "stdout",
          "text": [
            "['apple', 'banana', 'orange']\n"
          ]
        },
        {
          "output_type": "execute_result",
          "data": {
            "text/plain": [
              "list"
            ]
          },
          "metadata": {},
          "execution_count": 17
        }
      ]
    },
    {
      "cell_type": "code",
      "source": [
        "# read\n",
        "print(fruits[0]) # first element\n",
        "print(fruits[-1]) # last element\n",
        "\n",
        "\n",
        "#length\n",
        "print(len(fruits))"
      ],
      "metadata": {
        "colab": {
          "base_uri": "https://localhost:8080/"
        },
        "id": "gHhtk2NlMeZf",
        "outputId": "b0436716-c9be-4a44-9dee-72fa96168e97"
      },
      "execution_count": 19,
      "outputs": [
        {
          "output_type": "stream",
          "name": "stdout",
          "text": [
            "apple\n",
            "orange\n",
            "3\n"
          ]
        }
      ]
    },
    {
      "cell_type": "code",
      "source": [
        "# update\n",
        "fruits[0] = \"Grapes\"\n",
        "fruits\n",
        "\n",
        "fruits[-1] = \"Pineapple\"\n",
        "fruits"
      ],
      "metadata": {
        "colab": {
          "base_uri": "https://localhost:8080/"
        },
        "id": "NZPKx-5JM6Uv",
        "outputId": "84afd105-9f78-4ef8-a81c-78c114528139"
      },
      "execution_count": 23,
      "outputs": [
        {
          "output_type": "execute_result",
          "data": {
            "text/plain": [
              "['Grapes', 'banana', 'Pineapple']"
            ]
          },
          "metadata": {},
          "execution_count": 23
        }
      ]
    },
    {
      "cell_type": "code",
      "source": [
        "# add ele to last\n",
        "fruits.append(\"new fruits\")\n",
        "fruits"
      ],
      "metadata": {
        "colab": {
          "base_uri": "https://localhost:8080/"
        },
        "id": "g-sMXukLNNnM",
        "outputId": "943dbc91-6871-41f4-aa16-5501be6c360c"
      },
      "execution_count": 27,
      "outputs": [
        {
          "output_type": "execute_result",
          "data": {
            "text/plain": [
              "['Grapes', 'banana', 'Pineapple', 'new fruits']"
            ]
          },
          "metadata": {},
          "execution_count": 27
        }
      ]
    },
    {
      "cell_type": "code",
      "source": [
        "# Delete\n",
        "del fruits[1]\n",
        "fruits"
      ],
      "metadata": {
        "colab": {
          "base_uri": "https://localhost:8080/"
        },
        "id": "KNz-Gux-M7i5",
        "outputId": "8bb73a14-2464-4500-9cd7-2ee1d9315f65"
      },
      "execution_count": 31,
      "outputs": [
        {
          "output_type": "execute_result",
          "data": {
            "text/plain": [
              "['Grapes', 'new fruits']"
            ]
          },
          "metadata": {},
          "execution_count": 31
        }
      ]
    },
    {
      "cell_type": "markdown",
      "source": [
        "### Complete code in once bloack for all list functions\n"
      ],
      "metadata": {
        "id": "_oMVGujCOMr7"
      }
    },
    {
      "cell_type": "code",
      "source": [
        "# Creating Lists\n",
        "my_list = []  # Empty list\n",
        "numbers = [1, 2, 3, 4, 5]  # List with integers\n",
        "fruits = ['apple', 'banana', 'orange']  # List with strings\n",
        "mixed_list = [1, 'hello', 3.14, True]  # List with mixed data types\n",
        "\n",
        "# Accessing Elements\n",
        "print(numbers[0])  # Accessing the first element\n",
        "print(fruits[2])   # Accessing the third element\n",
        "print(numbers[-1])  # Accessing the last element using negative indexing\n",
        "\n",
        "# Modifying Lists\n",
        "fruits[1] = 'grape'  # Changing an element\n",
        "print(fruits)\n",
        "\n",
        "fruits.append('kiwi')  # Appending an element to the end\n",
        "print(fruits)\n",
        "\n",
        "fruits.extend(['melon', 'pineapple'])  # Extending the list with another list\n",
        "print(fruits)\n",
        "\n",
        "# List Functions\n",
        "print(len(numbers))  # Length of the list\n",
        "print(max(numbers))  # Maximum value in the list\n",
        "print(min(numbers))  # Minimum value in the list\n",
        "print(sum(numbers))  # Sum of all elements (for numeric lists)\n",
        "\n",
        "print(fruits.index('orange'))  # Index of 'orange'\n",
        "print(fruits.count('apple'))   # Count of 'apple'\n",
        "\n",
        "fruits.remove('kiwi')  # Removing the first occurrence of 'kiwi'\n",
        "print(fruits)\n",
        "\n",
        "removed_item = fruits.pop(1)  # Removing and returning an element by index\n",
        "print(removed_item)\n",
        "print(fruits)\n"
      ],
      "metadata": {
        "colab": {
          "base_uri": "https://localhost:8080/"
        },
        "id": "4DxoNol_OTTC",
        "outputId": "cb16dfe3-f9ec-4df5-a24a-fa4b2aab199b"
      },
      "execution_count": 32,
      "outputs": [
        {
          "output_type": "stream",
          "name": "stdout",
          "text": [
            "1\n",
            "orange\n",
            "5\n",
            "['apple', 'grape', 'orange']\n",
            "['apple', 'grape', 'orange', 'kiwi']\n",
            "['apple', 'grape', 'orange', 'kiwi', 'melon', 'pineapple']\n",
            "5\n",
            "5\n",
            "1\n",
            "15\n",
            "2\n",
            "1\n",
            "['apple', 'grape', 'orange', 'melon', 'pineapple']\n",
            "grape\n",
            "['apple', 'orange', 'melon', 'pineapple']\n"
          ]
        }
      ]
    },
    {
      "cell_type": "markdown",
      "source": [
        "# Dictionary"
      ],
      "metadata": {
        "id": "b84MVNUiPsNP"
      }
    },
    {
      "cell_type": "code",
      "source": [
        "# Creating a Dictionary\n",
        "my_dict = {'name': 'John', 'age': 25, 'city': 'New York'}\n",
        "\n",
        "# Displaying the original dictionary\n",
        "print(\"Original Dictionary:\", my_dict)\n",
        "\n",
        "# Creating a dictionary with mixed data types\n",
        "mixed_dict = {'name': 'Alice', 'score': 95, 'is_student': True}\n",
        "\n",
        "# Accessing Elements\n",
        "print(my_dict['name'])  # Accessing value by key\n",
        "print(my_dict.get('age'))  # Accessing value using get() method\n",
        "\n",
        "# Modifying Elements\n",
        "my_dict['age'] = 26  # Updating the 'age' value\n",
        "print(\"Dictionary after updating 'age':\", my_dict)\n",
        "\n",
        "my_dict['gender'] = 'Male'  # Adding a new key-value pair\n",
        "print(\"Dictionary after adding 'gender':\", my_dict)\n",
        "\n",
        "# Deleting Elements\n",
        "del my_dict['city']  # Deleting a key-value pair\n",
        "print(\"Dictionary after deleting 'city':\", my_dict)\n",
        "\n",
        "# Deleting the entire dictionary\n",
        "my_dict.clear()\n",
        "print(\"Dictionary after clearing:\", my_dict)\n",
        "\n",
        "# Example with Nested Dictionary\n",
        "employee = {\n",
        "    'id': 101,\n",
        "    'name': 'Alice',\n",
        "    'details': {'position': 'Engineer', 'department': 'IT'}\n",
        "}\n",
        "\n",
        "print(\"Employee Details:\", employee['details']['position'])\n",
        "\n",
        "# Dictionary Functions\n",
        "print(len(my_dict))  # Length of the dictionary\n",
        "print(mixed_dict.keys())  # List of keys\n",
        "print(mixed_dict.values())  # List of values\n",
        "\n",
        "# Check if a key exists\n",
        "print('name' in my_dict)  # Output: False (after clearing)\n",
        "\n",
        "# Copying a dictionary\n",
        "copied_dict = my_dict.copy()\n",
        "print(\"Copied Dictionary:\", copied_dict)\n",
        "\n",
        "# Merging two dictionaries\n",
        "merged_dict = {**my_dict, **mixed_dict}\n",
        "print(\"Merged Dictionary:\", merged_dict)\n"
      ],
      "metadata": {
        "colab": {
          "base_uri": "https://localhost:8080/"
        },
        "id": "8qwqO2ytPupo",
        "outputId": "90f6bf05-4c9f-42a4-e82b-3ef107d0852e"
      },
      "execution_count": 33,
      "outputs": [
        {
          "output_type": "stream",
          "name": "stdout",
          "text": [
            "Original Dictionary: {'name': 'John', 'age': 25, 'city': 'New York'}\n",
            "John\n",
            "25\n",
            "Dictionary after updating 'age': {'name': 'John', 'age': 26, 'city': 'New York'}\n",
            "Dictionary after adding 'gender': {'name': 'John', 'age': 26, 'city': 'New York', 'gender': 'Male'}\n",
            "Dictionary after deleting 'city': {'name': 'John', 'age': 26, 'gender': 'Male'}\n",
            "Dictionary after clearing: {}\n",
            "Employee Details: Engineer\n",
            "0\n",
            "dict_keys(['name', 'score', 'is_student'])\n",
            "dict_values(['Alice', 95, True])\n",
            "False\n",
            "Copied Dictionary: {}\n",
            "Merged Dictionary: {'name': 'Alice', 'score': 95, 'is_student': True}\n"
          ]
        }
      ]
    }
  ]
}